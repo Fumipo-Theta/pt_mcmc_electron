{
 "cells": [
  {
   "cell_type": "code",
   "execution_count": 66,
   "metadata": {},
   "outputs": [
    {
     "name": "stdout",
     "output_type": "stream",
     "text": [
      "[1] TRUE\n",
      "[1] TRUE TRUE TRUE TRUE TRUE TRUE TRUE TRUE\n",
      "[1] TRUE TRUE TRUE TRUE TRUE\n"
     ]
    },
    {
     "data": {
      "image/png": "[encoded data removed]",
      "text/plain": [
       "plot without title"
      ]
     },
     "metadata": {},
     "output_type": "display_data"
    }
   ],
   "source": [
    "library(genlasso)\n",
    "library(dplyr)\n",
    "library(tidyr)\n",
    "library(broom)\n",
    "library(purrr)\n",
    "\n",
    "# 所与のデータ(ys)に関数(func)を適用しつつ, データysそのものを返す関数\n",
    "tee <- function(ys,func){\n",
    "    func(ys)\n",
    "    return (ys)\n",
    "}\n",
    "\n",
    "getColumn <- function(df,columnName){\n",
    "    return(df[columnName])\n",
    "}\n",
    "\n",
    "getMSE <- function(observed,modeled){\n",
    "    n <- length(observed)\n",
    "    sum <- 0\n",
    "    for (i in 1:n){\n",
    "        sum <- sum + (observed[i]-modeled[i])**2\n",
    "    }\n",
    "    return(sqrt(sum/n))\n",
    "}\n",
    "\n",
    "print(getMSE(c(1,2,3),c(0,0,0)) == sqrt((1+4+9)/3))\n",
    "\n",
    "getEdgeOfFlat<-function(beta,eps=1e-5){\n",
    "    \n",
    "    n <- length(beta)\n",
    "    i_edge <- c()\n",
    "    wasFlat <- FALSE\n",
    "    for (i in 1:(n-1)){\n",
    "        if (abs(beta[i] - beta[i+1]) < eps){\n",
    "            if (! wasFlat){\n",
    "                i_edge <- append(i_edge,c(i))\n",
    "                wasFlat <- TRUE\n",
    "            }\n",
    "        }else{\n",
    "            if (wasFlat){\n",
    "                i_edge <- append(i_edge,c(i))\n",
    "                wasFlat <- FALSE\n",
    "            }\n",
    "        }\n",
    "    }\n",
    "    \n",
    "    return(i_edge)\n",
    "}\n",
    "\n",
    "# 原点側がプラトーであるとして, スロープの中点を求める\n",
    "getSlopeCenter<- function(x,i_edge){\n",
    "    center <- c()\n",
    "    n <- length(i_edge)\n",
    "    last <- length(x)\n",
    "    \n",
    "    center <- append(center,c(0.5*(x[1]+x[i_edge[1]])))\n",
    "    \n",
    "    for (i in seq(2,n-1,2)){\n",
    "        center <- append(center,c(0.5*(x[i_edge[i]]+x[i_edge[i+1]])))\n",
    "    }\n",
    "\n",
    "    center <- append(center,c(0.5*(x[i_edge[n]]+x[last])))\n",
    "    return (center)\n",
    "}\n",
    "\n",
    "\n",
    "# i 1 2 3   4 5   6   7   8  9   10  11    12\n",
    "# x 0 1 2   3 4   5   6   7  8   9   10    11\n",
    "# b 1 1 1 | 0 0 | 0.5|1   1|1.5 1.5 1.5 | 1\n",
    "#   _   _   _ _        _  _   _    _   _\n",
    "#  0     2.5       5.5                  10.5 \n",
    "i_edge <- getEdgeOfFlat(c(1,1,1,0,0,0.5,1,1,1.5,1.5,1.5,1))\n",
    "print(i_edge == c(1,3,4,5,7,8,9,11))\n",
    "slopeCenter <- getSlopeCenter(c(0,1,2,3,4,5,6,7,8,9,10,11),i_edge)\n",
    "print(slopeCenter == c(0,2.5,5,7.5,10.5))\n",
    "\n",
    "plot(c(0,1,2,3,4,5,6,7,8,9,10,11),c(1,1,1,0,0,0.5,1,1,1.5,1.5,1.5,1))\n",
    "lines(c(0,1,2,3,4,5,6,7,8,9,10,11),c(1,1,1,0,0,0.5,1,1,1.5,1.5,1.5,1))"
   ]
  },
  {
   "cell_type": "code",
   "execution_count": 2,
   "metadata": {},
   "outputs": [],
   "source": [
    "df <- read.csv(\"./1002-9-1C-opx1.csv\")"
   ]
  },
  {
   "cell_type": "markdown",
   "metadata": {},
   "source": [
    "## セクション区切りの判定\n",
    "\n",
    "Cr2O3プロファイルについて,\n",
    "1次元fusedLASSOにおいて, 1seルールのもとk-fold 交差検証で得られた正則化係数のもとでフィッティングをおこなう.\n",
    "そのとき$\\beta_i = \\beta_{i+1}$, すなわちフィッティング結果の曲線が平坦な部分(プラトー)を同一のセクションとみなす.\n",
    "\n",
    "セクション区切りはプラトーと次のプラトーをつなぐスロープ部の, 中間点の位置とする.\n",
    "\n",
    "The method to detect the border of growth section of chemical profile. \n",
    "\n",
    "\n",
    "\n",
    "## 測定値の誤差\n",
    "\n",
    "上記の交差検証時に得られたパラメータと, 実測値のmean sum of square error を各点の標準誤差とする. \n"
   ]
  },
  {
   "cell_type": "code",
   "execution_count": 60,
   "metadata": {},
   "outputs": [
    {
     "name": "stdout",
     "output_type": "stream",
     "text": [
      "Fold 1 ... Fold 2 ... Fold 3 ... Fold 4 ... Fold 5 ... \n",
      "[1] 0.027\n",
      "       0.027 \n",
      "0.0001090931 \n",
      "[1] \"slope center\"\n",
      " [1]  1  5  9 11 12 15 16 20 22 30 32 35 41 45 52 56\n",
      "[1] 0.000002 0.000026 0.000044 0.000060 0.000086 0.000116 0.000130 0.000151\n",
      "[9] 0.000168\n",
      "[1] \"MSE\"\n",
      "[1] 0.009655939\n"
     ]
    },
    {
     "data": {
      "image/png": "[encoded data removed]",
      "text/plain": [
       "plot without title"
      ]
     },
     "metadata": {},
     "output_type": "display_data"
    }
   ],
   "source": [
    "df %>%\n",
    "    .$Cr2O3 -> y\n",
    "\n",
    "df %>% \n",
    "    .$x -> x\n",
    "\n",
    "lambda <- 0.05\n",
    "\n",
    "\n",
    "y %>%\n",
    "    fusedlasso1d %>%\n",
    "    cv.trendfilter %>%\n",
    "    tee(function(cv){\n",
    "        print(cv$lambda.1se)\n",
    "        print(cv$se[cv$i.1se])\n",
    "        y %>%\n",
    "            fusedlasso1d %>%\n",
    "            coef(lambda=cv$lambda.1se) %>%\n",
    "            tee(function(coef){\n",
    "                print(\"slope center\")\n",
    "                print(getEdgeOfFlat(coef$beta))\n",
    "                #print(coef$beta)\n",
    "                print(getSlopeCenter(x,getEdgeOfFlat(coef$beta)))\n",
    "                print(\"MSE\")\n",
    "                print(getMSE(coef$beta,y))\n",
    "                plot(x, y)\n",
    "                lines(x, coef$beta)\n",
    "            }) %>% invisible\n",
    "            #plot(,x=radius, lambda=cv$lambda.1se) %>%\n",
    "            #invisible\n",
    "    }) %>%\n",
    "    invisible"
   ]
  },
  {
   "cell_type": "code",
   "execution_count": 62,
   "metadata": {},
   "outputs": [
    {
     "name": "stdout",
     "output_type": "stream",
     "text": [
      "Fold 1 ... Fold 2 ... Fold 3 ... Fold 4 ... Fold 5 ... \n",
      "[1] 0.01075\n",
      "      0.011 \n",
      "1.06067e-05 \n",
      "[1] \"slope center\"\n",
      " [1]  1  6 10 13 15 19 22 23 24 32 35 36 38 42 43 50 51 54 55 56 57\n",
      " [1] 0.000002 0.000030 0.000054 0.000084 0.000096 0.000121 0.000128 0.000139\n",
      " [9] 0.000155 0.000163 0.000167 0.000169\n",
      "[1] \"MSE\"\n",
      "[1] 0.004765209\n"
     ]
    },
    {
     "data": {
      "image/png": "[encoded data removed]",
      "text/plain": [
       "plot without title"
      ]
     },
     "metadata": {},
     "output_type": "display_data"
    }
   ],
   "source": [
    "df %>%\n",
    "    .$NiO -> y\n",
    "\n",
    "df %>% \n",
    "    .$x -> x\n",
    "\n",
    "lambda <- 0.05\n",
    "\n",
    "\n",
    "y %>%\n",
    "    fusedlasso1d %>%\n",
    "    cv.trendfilter %>%\n",
    "    tee(function(cv){\n",
    "        print(cv$lambda.1se)\n",
    "        print(cv$se[cv$i.1se])\n",
    "        y %>%\n",
    "            fusedlasso1d %>%\n",
    "            coef(lambda=cv$lambda.1se) %>%\n",
    "            tee(function(coef){\n",
    "                print(\"slope center\")\n",
    "                print(getEdgeOfFlat(coef$beta))\n",
    "                #print(coef$beta)\n",
    "                print(getSlopeCenter(x,getEdgeOfFlat(coef$beta)))\n",
    "                print(\"MSE\")\n",
    "                print(getMSE(coef$beta,y))\n",
    "                plot(x, y)\n",
    "                lines(x, coef$beta)\n",
    "            }) %>% invisible\n",
    "            #plot(,x=radius, lambda=cv$lambda.1se) %>%\n",
    "            #invisible\n",
    "    }) %>%\n",
    "    invisible"
   ]
  },
  {
   "cell_type": "code",
   "execution_count": 61,
   "metadata": {},
   "outputs": [
    {
     "name": "stdout",
     "output_type": "stream",
     "text": [
      "Fold 1 ... Fold 2 ... Fold 3 ... Fold 4 ... Fold 5 ... \n",
      "[1] 0.009198811\n",
      "       0.009 \n",
      "4.194139e-06 \n",
      "[1] \"slope center\"\n",
      " [1]  1  4  5  6 10 15 16 19 23 33 40 41 42 45 53 56\n",
      "[1] 0.000002 0.000016 0.000030 0.000060 0.000086 0.000127 0.000137 0.000152\n",
      "[9] 0.000168\n",
      "[1] \"MSE\"\n",
      "[1] 0.002937727\n"
     ]
    },
    {
     "data": {
      "image/png": "[encoded data removed]",
      "text/plain": [
       "plot without title"
      ]
     },
     "metadata": {},
     "output_type": "display_data"
    }
   ],
   "source": [
    "df %>%\n",
    "    .$Fe_Mg-> y\n",
    "\n",
    "df %>% \n",
    "    .$x -> x\n",
    "\n",
    "lambda <- 0.05\n",
    "\n",
    "\n",
    "y %>%\n",
    "    fusedlasso1d %>%\n",
    "    cv.trendfilter %>%\n",
    "    tee(function(cv){\n",
    "        print(cv$lambda.1se)\n",
    "        print(cv$se[cv$i.1se])\n",
    "        y %>%\n",
    "            fusedlasso1d %>%\n",
    "            coef(lambda=cv$lambda.1se) %>%\n",
    "            tee(function(coef){\n",
    "                print(\"slope center\")\n",
    "                print(getEdgeOfFlat(coef$beta))\n",
    "                #print(coef$beta)\n",
    "                print(getSlopeCenter(x,getEdgeOfFlat(coef$beta)))\n",
    "                print(\"MSE\")\n",
    "                print(getMSE(coef$beta,y))\n",
    "                plot(x, y)\n",
    "                lines(x, coef$beta)\n",
    "            }) %>% invisible\n",
    "            #plot(,x=radius, lambda=cv$lambda.1se) %>%\n",
    "            #invisible\n",
    "    }) %>%\n",
    "    invisible"
   ]
  },
  {
   "cell_type": "code",
   "execution_count": 30,
   "metadata": {},
   "outputs": [
    {
     "name": "stdout",
     "output_type": "stream",
     "text": [
      "Fold 1 ... Fold 2 ... Fold 3 ... Fold 4 ... Fold 5 ... \n",
      "[1] 0.01606364\n",
      "       0.016 \n",
      "0.0001216652 \n",
      "[1] \"MSE\"\n",
      "[1] 0.01143489\n"
     ]
    },
    {
     "data": {
      "image/png": "[encoded data removed]",
      "text/plain": [
       "plot without title"
      ]
     },
     "metadata": {},
     "output_type": "display_data"
    }
   ],
   "source": [
    "df %>%\n",
    "    .$Cr2O3 -> y\n",
    "\n",
    "df %>% \n",
    "    .$x -> x\n",
    "\n",
    "y %>%\n",
    "    trendfilter(ord=1) %>%\n",
    "    cv.trendfilter %>%\n",
    "    tee(function(cv){\n",
    "        print(cv$lambda.1se)\n",
    "        print(cv$se[cv$i.1se])\n",
    "        y %>%\n",
    "            trendfilter(ord=1) %>%\n",
    "            coef(lambda=cv$lambda.1se) %>%\n",
    "            tee(function(coef){\n",
    "                print(\"MSE\")\n",
    "                print(getMSE(coef$beta,y))\n",
    "                plot(x, y)\n",
    "                lines(x, coef$beta)\n",
    "            }) %>% invisible\n",
    "            #plot(,x=radius, lambda=cv$lambda.1se) %>%\n",
    "            #invisible\n",
    "    }) %>%\n",
    "    invisible\n"
   ]
  },
  {
   "cell_type": "code",
   "execution_count": 63,
   "metadata": {},
   "outputs": [
    {
     "name": "stdout",
     "output_type": "stream",
     "text": [
      "Fold 1 ... Fold 2 ... Fold 3 ... Fold 4 ... Fold 5 ... \n",
      "[1] 0.006666667\n",
      "       0.007 \n",
      "8.121126e-06 \n",
      "[1] \"MSE\"\n",
      "[1] 0.00504091\n"
     ]
    },
    {
     "data": {
      "image/png": "[encoded data removed]",
      "text/plain": [
       "plot without title"
      ]
     },
     "metadata": {},
     "output_type": "display_data"
    }
   ],
   "source": [
    "df %>%\n",
    "    .$NiO -> y\n",
    "\n",
    "df %>% \n",
    "    .$x -> x\n",
    "\n",
    "y %>%\n",
    "    trendfilter(ord=1) %>%\n",
    "    cv.trendfilter %>%\n",
    "    tee(function(cv){\n",
    "        print(cv$lambda.1se)\n",
    "        print(cv$se[cv$i.1se])\n",
    "        y %>%\n",
    "            trendfilter(ord=1) %>%\n",
    "            coef(lambda=cv$lambda.1se) %>%\n",
    "            tee(function(coef){\n",
    "                print(\"MSE\")\n",
    "                print(getMSE(coef$beta,y))\n",
    "                plot(x, y)\n",
    "                lines(x, coef$beta)\n",
    "            }) %>% invisible\n",
    "            #plot(,x=radius, lambda=cv$lambda.1se) %>%\n",
    "            #invisible\n",
    "    }) %>%\n",
    "    invisible"
   ]
  },
  {
   "cell_type": "code",
   "execution_count": null,
   "metadata": {},
   "outputs": [],
   "source": []
  },
  {
   "cell_type": "code",
   "execution_count": 25,
   "metadata": {},
   "outputs": [
    {
     "name": "stdout",
     "output_type": "stream",
     "text": [
      "Fold 1 ... Fold 2 ... Fold 3 ... Fold 4 ... Fold 5 ... \n",
      "[1] 0.009273538\n",
      "       0.009 \n",
      "8.710443e-06 \n",
      "[1] \"MSE\"\n",
      "[1] 0.002819423\n"
     ]
    },
    {
     "data": {
      "image/png": "[encoded data removed]",
      "text/plain": [
       "plot without title"
      ]
     },
     "metadata": {},
     "output_type": "display_data"
    }
   ],
   "source": [
    "df %>%\n",
    "    .$Fe_Mg -> y\n",
    "\n",
    "df %>% \n",
    "    .$x -> x\n",
    "\n",
    "y %>%\n",
    "    trendfilter(ord=1) %>%\n",
    "    cv.trendfilter %>%\n",
    "    tee(function(cv){\n",
    "        print(cv$lambda.1se)\n",
    "        print(cv$se[cv$i.1se])\n",
    "        y %>%\n",
    "            trendfilter(ord=1) %>%\n",
    "            coef(lambda=cv$lambda.1se) %>%\n",
    "            tee(function(coef){\n",
    "                print(\"MSE\")\n",
    "                print(getMSE(coef$beta,y))\n",
    "                plot(x, y)\n",
    "                lines(x, coef$beta)\n",
    "            }) %>% invisible\n",
    "            #plot(,x=radius, lambda=cv$lambda.1se) %>%\n",
    "            #invisible\n",
    "    }) %>%\n",
    "    invisible"
   ]
  }
 ],
 "metadata": {
  "kernelspec": {
   "display_name": "R",
   "language": "R",
   "name": "ir"
  },
  "language_info": {
   "codemirror_mode": "r",
   "file_extension": ".r",
   "mimetype": "text/x-r-source",
   "name": "R",
   "pygments_lexer": "r",
   "version": "3.4.1"
  }
 },
 "nbformat": 4,
 "nbformat_minor": 2
}
