{
 "cells": [
  {
   "cell_type": "code",
   "execution_count": 1,
   "metadata": {},
   "outputs": [
    {
     "name": "stderr",
     "output_type": "stream",
     "text": [
      "Warning message:\n",
      "\"package 'genlasso' was built under R version 3.4.2\"Loading required package: MASS\n",
      "Warning message:\n",
      "\"package 'MASS' was built under R version 3.4.3\"Loading required package: Matrix\n",
      "Warning message:\n",
      "\"package 'Matrix' was built under R version 3.4.3\"Loading required package: igraph\n",
      "Warning message:\n",
      "\"package 'igraph' was built under R version 3.4.2\"\n",
      "Attaching package: 'igraph'\n",
      "\n",
      "The following objects are masked from 'package:stats':\n",
      "\n",
      "    decompose, spectrum\n",
      "\n",
      "The following object is masked from 'package:base':\n",
      "\n",
      "    union\n",
      "\n",
      "Warning message:\n",
      "\"package 'dplyr' was built under R version 3.4.3\"\n",
      "Attaching package: 'dplyr'\n",
      "\n",
      "The following objects are masked from 'package:igraph':\n",
      "\n",
      "    as_data_frame, groups, union\n",
      "\n",
      "The following object is masked from 'package:MASS':\n",
      "\n",
      "    select\n",
      "\n",
      "The following objects are masked from 'package:stats':\n",
      "\n",
      "    filter, lag\n",
      "\n",
      "The following objects are masked from 'package:base':\n",
      "\n",
      "    intersect, setdiff, setequal, union\n",
      "\n",
      "Warning message:\n",
      "\"package 'tidyr' was built under R version 3.4.3\"\n",
      "Attaching package: 'tidyr'\n",
      "\n",
      "The following object is masked from 'package:igraph':\n",
      "\n",
      "    crossing\n",
      "\n",
      "The following object is masked from 'package:Matrix':\n",
      "\n",
      "    expand\n",
      "\n",
      "Warning message:\n",
      "\"package 'broom' was built under R version 3.4.3\"Warning message:\n",
      "\"package 'purrr' was built under R version 3.4.3\"\n",
      "Attaching package: 'purrr'\n",
      "\n",
      "The following objects are masked from 'package:igraph':\n",
      "\n",
      "    compose, simplify\n",
      "\n"
     ]
    },
    {
     "name": "stdout",
     "output_type": "stream",
     "text": [
      "[1] TRUE\n",
      "[1] TRUE TRUE TRUE TRUE TRUE TRUE TRUE TRUE\n",
      "[1] TRUE TRUE TRUE TRUE TRUE\n"
     ]
    },
    {
     "data": {
      "image/png": "[encoded data removed]",
      "text/plain": [
       "plot without title"
      ]
     },
     "metadata": {},
     "output_type": "display_data"
    }
   ],
   "source": [
    "library(genlasso)\n",
    "library(dplyr)\n",
    "library(tidyr)\n",
    "library(broom)\n",
    "library(purrr)\n",
    "\n",
    "# 所与のデータ(ys)に関数(func)を適用しつつ, データysそのものを返す関数\n",
    "tee <- function(ys,func){\n",
    "    func(ys)\n",
    "    return (ys)\n",
    "}\n",
    "\n",
    "getColumn <- function(df,columnName){\n",
    "    return(df[columnName])\n",
    "}\n",
    "\n",
    "getMSE <- function(observed,modeled){\n",
    "    n <- length(observed)\n",
    "    sum <- 0\n",
    "    for (i in 1:n){\n",
    "        sum <- sum + (observed[i]-modeled[i])**2\n",
    "    }\n",
    "    return(sqrt(sum/n))\n",
    "}\n",
    "\n",
    "print(getMSE(c(1,2,3),c(0,0,0)) == sqrt((1+4+9)/3))\n",
    "\n",
    "getEdgeOfFlat<-function(beta,eps=1e-5){\n",
    "    \n",
    "    n <- length(beta)\n",
    "    i_edge <- c()\n",
    "    wasFlat <- FALSE\n",
    "    for (i in 1:(n-1)){\n",
    "        if (abs(beta[i] - beta[i+1]) < eps){\n",
    "            if (! wasFlat){\n",
    "                i_edge <- append(i_edge,c(i))\n",
    "                wasFlat <- TRUE\n",
    "            }\n",
    "        }else{\n",
    "            if (wasFlat){\n",
    "                i_edge <- append(i_edge,c(i))\n",
    "                wasFlat <- FALSE\n",
    "            }\n",
    "        }\n",
    "    }\n",
    "    \n",
    "    return(i_edge)\n",
    "}\n",
    "\n",
    "# 原点側がプラトーであるとして, スロープの中点を求める\n",
    "getSlopeCenter<- function(x,i_edge){\n",
    "    center <- c()\n",
    "    n <- length(i_edge)\n",
    "    last <- length(x)\n",
    "    \n",
    "    center <- append(center,c(0.5*(x[1]+x[i_edge[1]])))\n",
    "    \n",
    "    for (i in seq(2,n-1,2)){\n",
    "        center <- append(center,c(0.5*(x[i_edge[i]]+x[i_edge[i+1]])))\n",
    "    }\n",
    "\n",
    "    center <- append(center,c(0.5*(x[i_edge[n]]+x[last])))\n",
    "    return (center)\n",
    "}\n",
    "\n",
    "\n",
    "# i 1 2 3   4 5   6   7   8  9   10  11    12\n",
    "# x 0 1 2   3 4   5   6   7  8   9   10    11\n",
    "# b 1 1 1 | 0 0 | 0.5|1   1|1.5 1.5 1.5 | 1\n",
    "#   _   _   _ _        _  _   _    _   _\n",
    "#  0     2.5       5.5                  10.5 \n",
    "i_edge <- getEdgeOfFlat(c(1,1,1,0,0,0.5,1,1,1.5,1.5,1.5,1))\n",
    "print(i_edge == c(1,3,4,5,7,8,9,11))\n",
    "slopeCenter <- getSlopeCenter(c(0,1,2,3,4,5,6,7,8,9,10,11),i_edge)\n",
    "print(slopeCenter == c(0,2.5,5,7.5,10.5))\n",
    "\n",
    "plot(c(0,1,2,3,4,5,6,7,8,9,10,11),c(1,1,1,0,0,0.5,1,1,1.5,1.5,1.5,1))\n",
    "lines(c(0,1,2,3,4,5,6,7,8,9,10,11),c(1,1,1,0,0,0.5,1,1,1.5,1.5,1.5,1))"
   ]
  },
  {
   "cell_type": "code",
   "execution_count": 16,
   "metadata": {},
   "outputs": [],
   "source": [
    "df <- read.csv(\"./1002-9-1C-opx1-R.csv\")"
   ]
  },
  {
   "cell_type": "markdown",
   "metadata": {},
   "source": [
    "## セクション区切りの判定\n",
    "\n",
    "Cr2O3プロファイルについて,\n",
    "1次元fusedLASSOにおいて, 1seルールのもとk-fold 交差検証で得られた正則化係数のもとでフィッティングをおこなう.\n",
    "そのとき$\\beta_i = \\beta_{i+1}$, すなわちフィッティング結果の曲線が平坦な部分(プラトー)を同一のセクションとみなす.\n",
    "\n",
    "セクション区切りはプラトーと次のプラトーをつなぐスロープ部の, 中間点の位置とする.\n",
    "\n",
    "The method to detect the border of growth section of chemical profile. \n",
    "\n",
    "\n",
    "\n",
    "## 測定値の誤差\n",
    "\n",
    "上記の交差検証時に得られたパラメータと, 実測値のmean sum of square error を各点の標準誤差とする. \n"
   ]
  },
  {
   "cell_type": "code",
   "execution_count": 17,
   "metadata": {},
   "outputs": [
    {
     "name": "stdout",
     "output_type": "stream",
     "text": [
      "Fold 1 ... Fold 2 ... Fold 3 ... Fold 4 ... Fold 5 ... \n",
      "[1] 0.0165\n",
      "       0.016 \n",
      "0.0001083383 \n",
      "[1] \"slope center\"\n",
      " [1]   1  10  11  12  16  19  21  24  26  31  32  36  37  38  40  41  43  44  46\n",
      "[20]  47  50  51  53  56  64  65  66  67  69  70  72  73  74  77  78  88  89  91\n",
      "[39]  95  96  98  99 100\n",
      " [1] 0.000000 0.000019 0.000026 0.000038 0.000048 0.000061 0.000071 0.000083\n",
      " [9] 0.000096 0.000102 0.000109 0.000116 0.000133 0.000148 0.000158 0.000170\n",
      "[17] 0.000180 0.000196 0.000231 0.000240 0.000248 0.000253 0.000256\n",
      "[1] \"MSE\"\n",
      "[1] 0.008241459\n"
     ]
    },
    {
     "data": {
      "image/png": "[encoded data removed]",
      "text/plain": [
       "plot without title"
      ]
     },
     "metadata": {},
     "output_type": "display_data"
    }
   ],
   "source": [
    "df %>%\n",
    "    .$Cr2O3 -> y\n",
    "\n",
    "df %>% \n",
    "    .$x -> x\n",
    "\n",
    "lambda <- 0.05\n",
    "\n",
    "\n",
    "y %>%\n",
    "    fusedlasso1d %>%\n",
    "    cv.trendfilter %>%\n",
    "    tee(function(cv){\n",
    "        print(cv$lambda.1se)\n",
    "        print(cv$se[cv$i.1se])\n",
    "        y %>%\n",
    "            fusedlasso1d %>%\n",
    "            coef(lambda=cv$lambda.1se) %>%\n",
    "            tee(function(coef){\n",
    "                print(\"slope center\")\n",
    "                print(getEdgeOfFlat(coef$beta))\n",
    "                #print(coef$beta)\n",
    "                print(getSlopeCenter(x,getEdgeOfFlat(coef$beta)))\n",
    "                print(\"MSE\")\n",
    "                print(getMSE(coef$beta,y))\n",
    "                plot(x, y)\n",
    "                lines(x, coef$beta)\n",
    "            }) %>% invisible\n",
    "            #plot(,x=radius, lambda=cv$lambda.1se) %>%\n",
    "            #invisible\n",
    "    }) %>%\n",
    "    invisible"
   ]
  },
  {
   "cell_type": "code",
   "execution_count": 6,
   "metadata": {},
   "outputs": [
    {
     "name": "stdout",
     "output_type": "stream",
     "text": [
      "Fold 1 ... Fold 2 ... Fold 3 ... Fold 4 ... Fold 5 ... \n",
      "[1] 0.02597826\n",
      "       0.026 \n",
      "7.172279e-06 \n",
      "[1] \"slope center\"\n",
      " [1]  1  9 11 13 16 17 19 37 41 44 45 50 51 96 97\n",
      "[1]   0  18  27  34  83 101 113 247 253\n",
      "[1] \"MSE\"\n",
      "[1] 0.005779683\n"
     ]
    },
    {
     "data": {
      "image/png": "[encoded data removed]",
      "text/plain": [
       "plot without title"
      ]
     },
     "metadata": {},
     "output_type": "display_data"
    }
   ],
   "source": [
    "df %>%\n",
    "    .$NiO -> y\n",
    "\n",
    "df %>% \n",
    "    .$x -> x\n",
    "\n",
    "lambda <- 0.05\n",
    "\n",
    "\n",
    "y %>%\n",
    "    fusedlasso1d %>%\n",
    "    cv.trendfilter %>%\n",
    "    tee(function(cv){\n",
    "        print(cv$lambda.1se)\n",
    "        print(cv$se[cv$i.1se])\n",
    "        y %>%\n",
    "            fusedlasso1d %>%\n",
    "            coef(lambda=cv$lambda.1se) %>%\n",
    "            tee(function(coef){\n",
    "                print(\"slope center\")\n",
    "                print(getEdgeOfFlat(coef$beta))\n",
    "                #print(coef$beta)\n",
    "                print(getSlopeCenter(x,getEdgeOfFlat(coef$beta)))\n",
    "                print(\"MSE\")\n",
    "                print(getMSE(coef$beta,y))\n",
    "                plot(x, y)\n",
    "                lines(x, coef$beta)\n",
    "            }) %>% invisible\n",
    "            #plot(,x=radius, lambda=cv$lambda.1se) %>%\n",
    "            #invisible\n",
    "    }) %>%\n",
    "    invisible"
   ]
  },
  {
   "cell_type": "code",
   "execution_count": 9,
   "metadata": {},
   "outputs": [
    {
     "name": "stdout",
     "output_type": "stream",
     "text": [
      "Fold 1 ... Fold 2 ... Fold 3 ... Fold 4 ... Fold 5 ... \n",
      "[1] 0.02085212\n",
      "       0.021 \n",
      "1.937318e-05 \n",
      "[1] \"slope center\"\n",
      " [1]   1  10  12  13  14  17  18  20  21  39  40  45  47  48  51  57  58  59  64\n",
      "[20]  95  98  99 101\n",
      " [1]   0  20  25  33  39  84 104 111 127 136 247 254 257\n",
      "[1] \"MSE\"\n",
      "[1] 0.005771663\n"
     ]
    },
    {
     "data": {
      "image/png": "[encoded data removed]",
      "text/plain": [
       "plot without title"
      ]
     },
     "metadata": {},
     "output_type": "display_data"
    }
   ],
   "source": [
    "df %>%\n",
    "    .$Fe_Mg-> y\n",
    "\n",
    "df %>% \n",
    "    .$x -> x\n",
    "\n",
    "lambda <- 0.05\n",
    "\n",
    "\n",
    "y %>%\n",
    "    fusedlasso1d %>%\n",
    "    cv.trendfilter %>%\n",
    "    tee(function(cv){\n",
    "        print(cv$lambda.1se)\n",
    "        print(cv$se[cv$i.1se])\n",
    "        y %>%\n",
    "            fusedlasso1d %>%\n",
    "            coef(lambda=cv$lambda.1se) %>%\n",
    "            tee(function(coef){\n",
    "                print(\"slope center\")\n",
    "                print(getEdgeOfFlat(coef$beta))\n",
    "                #print(coef$beta)\n",
    "                print(getSlopeCenter(x,getEdgeOfFlat(coef$beta)))\n",
    "                print(\"MSE\")\n",
    "                print(getMSE(coef$beta,y))\n",
    "                plot(x, y)\n",
    "                lines(x, coef$beta)\n",
    "            }) %>% invisible\n",
    "            #plot(,x=radius, lambda=cv$lambda.1se) %>%\n",
    "            #invisible\n",
    "    }) %>%\n",
    "    invisible"
   ]
  },
  {
   "cell_type": "code",
   "execution_count": 18,
   "metadata": {},
   "outputs": [
    {
     "name": "stdout",
     "output_type": "stream",
     "text": [
      "Fold 1 ... Fold 2 ... Fold 3 ... Fold 4 ... Fold 5 ... \n",
      "[1] 0.0095\n",
      "       0.009 \n",
      "0.0001141809 \n",
      "[1] \"MSE\"\n",
      "[1] 0.01275707\n"
     ]
    },
    {
     "data": {
      "image/png": "[encoded data removed]",
      "text/plain": [
       "plot without title"
      ]
     },
     "metadata": {},
     "output_type": "display_data"
    }
   ],
   "source": [
    "df %>%\n",
    "    .$Cr2O3 -> y\n",
    "\n",
    "df %>% \n",
    "    .$x -> x\n",
    "\n",
    "y %>%\n",
    "    trendfilter(ord=1) %>%\n",
    "    cv.trendfilter %>%\n",
    "    tee(function(cv){\n",
    "        print(cv$lambda.1se)\n",
    "        print(cv$se[cv$i.1se])\n",
    "        y %>%\n",
    "            trendfilter(ord=1) %>%\n",
    "            coef(lambda=cv$lambda.1se*2) %>%\n",
    "            tee(function(coef){\n",
    "                print(\"MSE\")\n",
    "                print(getMSE(coef$beta,y))\n",
    "                plot(x, y)\n",
    "                lines(x, coef$beta)\n",
    "            }) %>% invisible\n",
    "            #plot(,x=radius, lambda=cv$lambda.1se) %>%\n",
    "            #invisible\n",
    "    }) %>%\n",
    "    invisible\n"
   ]
  },
  {
   "cell_type": "code",
   "execution_count": 11,
   "metadata": {},
   "outputs": [
    {
     "name": "stdout",
     "output_type": "stream",
     "text": [
      "Fold 1 ... Fold 2 ... Fold 3 ... Fold 4 ... Fold 5 ... \n",
      "[1] 0.03166114\n",
      "       0.032 \n",
      "5.515672e-06 \n",
      "[1] \"MSE\"\n",
      "[1] 0.006371022\n"
     ]
    },
    {
     "data": {
      "image/png": "[encoded data removed]",
      "text/plain": [
       "plot without title"
      ]
     },
     "metadata": {},
     "output_type": "display_data"
    }
   ],
   "source": [
    "df %>%\n",
    "    .$NiO -> y\n",
    "\n",
    "df %>% \n",
    "    .$x -> x\n",
    "\n",
    "y %>%\n",
    "    trendfilter(ord=1) %>%\n",
    "    cv.trendfilter %>%\n",
    "    tee(function(cv){\n",
    "        print(cv$lambda.1se)\n",
    "        print(cv$se[cv$i.1se])\n",
    "        y %>%\n",
    "            trendfilter(ord=1) %>%\n",
    "            coef(lambda=cv$lambda.1se) %>%\n",
    "            tee(function(coef){\n",
    "                print(\"MSE\")\n",
    "                print(getMSE(coef$beta,y))\n",
    "                plot(x, y)\n",
    "                lines(x, coef$beta)\n",
    "            }) %>% invisible\n",
    "            #plot(,x=radius, lambda=cv$lambda.1se) %>%\n",
    "            #invisible\n",
    "    }) %>%\n",
    "    invisible"
   ]
  },
  {
   "cell_type": "code",
   "execution_count": 12,
   "metadata": {},
   "outputs": [
    {
     "name": "stdout",
     "output_type": "stream",
     "text": [
      "Fold 1 ... Fold 2 ... Fold 3 ... Fold 4 ... Fold 5 ... \n",
      "[1] 0.02568452\n",
      "       0.026 \n",
      "1.880948e-05 \n",
      "[1] \"MSE\"\n",
      "[1] 0.006957544\n"
     ]
    },
    {
     "data": {
      "image/png": "[encoded data removed]",
      "text/plain": [
       "plot without title"
      ]
     },
     "metadata": {},
     "output_type": "display_data"
    }
   ],
   "source": [
    "df %>%\n",
    "    .$Fe_Mg -> y\n",
    "\n",
    "df %>% \n",
    "    .$x -> x\n",
    "\n",
    "y %>%\n",
    "    trendfilter(ord=1) %>%\n",
    "    cv.trendfilter %>%\n",
    "    tee(function(cv){\n",
    "        print(cv$lambda.1se)\n",
    "        print(cv$se[cv$i.1se])\n",
    "        y %>%\n",
    "            trendfilter(ord=1) %>%\n",
    "            coef(lambda=cv$lambda.1se) %>%\n",
    "            tee(function(coef){\n",
    "                print(\"MSE\")\n",
    "                print(getMSE(coef$beta,y))\n",
    "                plot(x, y)\n",
    "                lines(x, coef$beta)\n",
    "            }) %>% invisible\n",
    "            #plot(,x=radius, lambda=cv$lambda.1se) %>%\n",
    "            #invisible\n",
    "    }) %>%\n",
    "    invisible"
   ]
  }
 ],
 "metadata": {
  "kernelspec": {
   "display_name": "R",
   "language": "R",
   "name": "ir"
  },
  "language_info": {
   "codemirror_mode": "r",
   "file_extension": ".r",
   "mimetype": "text/x-r-source",
   "name": "R",
   "pygments_lexer": "r",
   "version": "3.4.1"
  }
 },
 "nbformat": 4,
 "nbformat_minor": 2
}
