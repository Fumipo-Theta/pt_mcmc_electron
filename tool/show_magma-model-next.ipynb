{
 "cells": [
  {
   "cell_type": "code",
   "execution_count": 5,
   "metadata": {},
   "outputs": [],
   "source": [
    "var Model = require(\"../model/model-magma-next.js\")\n",
    "var fs = require(\"fs\")\n",
    "var tf = require(\"../../jslib/textFile\")"
   ]
  },
  {
   "cell_type": "code",
   "execution_count": 2,
   "metadata": {},
   "outputs": [],
   "source": [
    "var option = JSON.parse(fs.readFileSync(\"../model/model-magma-next-opt.json\",\"utf8\"))\n",
    "var \n",
    "\n",
    "var {\n",
    "      model,\n",
    "      parameters,\n",
    "      updateCondition,\n",
    "      constrain\n",
    "    } = Model(option)"
   ]
  },
  {
   "cell_type": "code",
   "execution_count": 4,
   "metadata": {},
   "outputs": [
    {
     "data": {
      "text/plain": [
       "[ { MgN_beforeCrystallization: 85,\n",
       "    growth_stoichiometry_orthopyroxene: 0.5,\n",
       "    growth_stoichiometry_spinel: 0.05,\n",
       "    MgN_beforeMixing: 80,\n",
       "    mixing_stoichiometry_orthopyroxene: 0.5,\n",
       "    mixing_stoichiometry_spinel: 0.05,\n",
       "    log10_tau: 6 },\n",
       "  { MgN_beforeCrystallization: 85,\n",
       "    growth_stoichiometry_orthopyroxene: 0.5,\n",
       "    growth_stoichiometry_spinel: 0.05,\n",
       "    MgN_beforeMixing: 80,\n",
       "    mixing_stoichiometry_orthopyroxene: 0.5,\n",
       "    mixing_stoichiometry_spinel: 0.05,\n",
       "    log10_tau: 6 },\n",
       "  { MgN_beforeCrystallization: 85,\n",
       "    growth_stoichiometry_orthopyroxene: 0.5,\n",
       "    growth_stoichiometry_spinel: 0.05,\n",
       "    MgN_beforeMixing: 80,\n",
       "    mixing_stoichiometry_orthopyroxene: 0.5,\n",
       "    mixing_stoichiometry_spinel: 0.05,\n",
       "    log10_tau: 6 },\n",
       "  { MgN_beforeCrystallization: 85,\n",
       "    growth_stoichiometry_orthopyroxene: 0.5,\n",
       "    growth_stoichiometry_spinel: 0.05,\n",
       "    MgN_beforeMixing: 80,\n",
       "    mixing_stoichiometry_orthopyroxene: 0.5,\n",
       "    mixing_stoichiometry_spinel: 0.05,\n",
       "    log10_tau: 6 },\n",
       "  { MgN_beforeCrystallization: 85,\n",
       "    growth_stoichiometry_orthopyroxene: 0.5,\n",
       "    growth_stoichiometry_spinel: 0.05,\n",
       "    MgN_beforeMixing: 80,\n",
       "    mixing_stoichiometry_orthopyroxene: 0.5,\n",
       "    mixing_stoichiometry_spinel: 0.05,\n",
       "    log10_tau: 6 },\n",
       "  { MgN_beforeCrystallization: 85,\n",
       "    growth_stoichiometry_orthopyroxene: 0.5,\n",
       "    growth_stoichiometry_spinel: 0.05,\n",
       "    MgN_beforeMixing: 80,\n",
       "    mixing_stoichiometry_orthopyroxene: 0.5,\n",
       "    mixing_stoichiometry_spinel: 0.05,\n",
       "    log10_tau: 6 },\n",
       "  { MgN_beforeCrystallization: 85,\n",
       "    growth_stoichiometry_orthopyroxene: 0.5,\n",
       "    growth_stoichiometry_spinel: 0.05,\n",
       "    MgN_beforeMixing: 80,\n",
       "    mixing_stoichiometry_orthopyroxene: 0.5,\n",
       "    mixing_stoichiometry_spinel: 0.05,\n",
       "    log10_tau: 6 },\n",
       "  { MgN_beforeCrystallization: 85,\n",
       "    growth_stoichiometry_orthopyroxene: 0.5,\n",
       "    growth_stoichiometry_spinel: 0.05,\n",
       "    MgN_beforeMixing: 80,\n",
       "    mixing_stoichiometry_orthopyroxene: 0.5,\n",
       "    mixing_stoichiometry_spinel: 0.05,\n",
       "    log10_tau: 6 },\n",
       "  { MgN_beforeCrystallization: 85,\n",
       "    growth_stoichiometry_orthopyroxene: 0.5,\n",
       "    growth_stoichiometry_spinel: 0.05,\n",
       "    MgN_beforeMixing: 80,\n",
       "    mixing_stoichiometry_orthopyroxene: 0.5,\n",
       "    mixing_stoichiometry_spinel: 0.05,\n",
       "    log10_tau: 6 } ]"
      ]
     },
     "execution_count": 4,
     "metadata": {},
     "output_type": "execute_result"
    }
   ],
   "source": []
  },
  {
   "cell_type": "code",
   "execution_count": null,
   "metadata": {},
   "outputs": [],
   "source": []
  }
 ],
 "metadata": {
  "kernelspec": {
   "display_name": "Javascript (Node.js)",
   "language": "javascript",
   "name": "javascript"
  },
  "language_info": {
   "file_extension": ".js",
   "mimetype": "application/javascript",
   "name": "javascript",
   "version": "10.4.1"
  }
 },
 "nbformat": 4,
 "nbformat_minor": 2
}
